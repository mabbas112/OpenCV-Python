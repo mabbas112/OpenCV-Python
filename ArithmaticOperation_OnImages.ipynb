{
 "cells": [
  {
   "cell_type": "code",
   "execution_count": 28,
   "metadata": {},
   "outputs": [
    {
     "name": "stdout",
     "output_type": "stream",
     "text": [
      "(332, 500, 3)\n",
      "498000\n",
      "uint8\n"
     ]
    }
   ],
   "source": [
    "import numpy as np\n",
    "import cv2\n",
    "img=cv2.imread('image.jpg')\n",
    "\n",
    "#it will provide the number rows,columns and channel of image\n",
    "print(img.shape)\n",
    "#it will return pixels = rows*columns*channel\n",
    "print(img.size)\n",
    "#it will return the datatype of image\n",
    "print(img.dtype)\n",
    "#split in b,g,r channel\n",
    "b,g,r=cv2.split(img)\n",
    "#merging of b g r channels\n",
    "img=cv2.merge((b,g,r))\n",
    "imgRGB=cv2.merge((r,g,b))\n",
    "#cv2.imshow('image',img)\n",
    "#cv2.imshow('imageRGB',imgRGB)\n",
    "#cv2.waitKey(0)\n",
    "#cv2.destroyAllWindows()\n",
    "\n",
    "#Region of interest (ROI) means where we want to work on a image\n",
    "#Accessing rows and column from image\n",
    "staring=img[170:210,175:200]\n",
    "#Assigning of these rows and columns into another place\n",
    " img[10:50 , 35:60]=staring\n",
    "cv2.imshow('image',img)\n",
    "\n",
    "#Row and columns should be same of both images in add function.\n",
    "#Otherwise you can use resize method like\n",
    "# img=cv2.resize(img,(512,512)) etc\n",
    "dst = cv2.add(img,imgRGB)\n",
    "cv2.imshow('image',dst)\n",
    "\n",
    "#Adding Images according to their weighted methods\n",
    "#2nd and 4th argument are their percentage of show and 5th is gamma scalar value\n",
    "dst=cv2.addWeighted(img, .5, imgRGB, .5, 0)\n",
    "cv2.imshow('image',dst)\n",
    "\n",
    "cv2.waitKey(0)\n",
    "cv2.destroyAllWindows()\n",
    "\n"
   ]
  },
  {
   "cell_type": "code",
   "execution_count": null,
   "metadata": {},
   "outputs": [],
   "source": []
  },
  {
   "cell_type": "code",
   "execution_count": null,
   "metadata": {},
   "outputs": [],
   "source": []
  }
 ],
 "metadata": {
  "kernelspec": {
   "display_name": "Python 3",
   "language": "python",
   "name": "python3"
  },
  "language_info": {
   "codemirror_mode": {
    "name": "ipython",
    "version": 3
   },
   "file_extension": ".py",
   "mimetype": "text/x-python",
   "name": "python",
   "nbconvert_exporter": "python",
   "pygments_lexer": "ipython3",
   "version": "3.8.5"
  }
 },
 "nbformat": 4,
 "nbformat_minor": 4
}
