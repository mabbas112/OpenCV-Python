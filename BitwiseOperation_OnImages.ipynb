{
 "cells": [
  {
   "cell_type": "code",
   "execution_count": 7,
   "metadata": {},
   "outputs": [],
   "source": [
    "import cv2\n",
    "import numpy as np\n",
    "\n",
    "img1=np.zeros((512,512,3),np.uint8)\n",
    "img1=cv2.rectangle(img1,(200,0),(300,100),(255,255,255),-1)\n",
    "img2=cv2.imread('blackwhite.jpg')\n",
    "img2=cv2.resize(img2,(512,512))\n",
    "img3= cv2.bitwise_and(img1,img2)\n",
    "img4= cv2.bitwise_or(img1,img2)\n",
    "img5= cv2.bitwise_xor(img1,img2)\n",
    "img6= cv2.bitwise_not(img1)\n",
    " \n",
    "\n",
    "cv2.imshow('img1',img1)\n",
    "cv2.imshow('img2',img2)\n",
    "cv2.imshow('AND Operation',img3)\n",
    "cv2.imshow('OR Operation',img4)\n",
    "cv2.imshow('XOR Operation',img5)\n",
    "cv2.imshow('NOT Operation',img6)\n",
    "cv2.waitKey(0)\n",
    "cv2.destroyAllWindows()\n"
   ]
  },
  {
   "cell_type": "code",
   "execution_count": null,
   "metadata": {},
   "outputs": [],
   "source": []
  },
  {
   "cell_type": "code",
   "execution_count": null,
   "metadata": {},
   "outputs": [],
   "source": []
  }
 ],
 "metadata": {
  "kernelspec": {
   "display_name": "Python 3",
   "language": "python",
   "name": "python3"
  },
  "language_info": {
   "codemirror_mode": {
    "name": "ipython",
    "version": 3
   },
   "file_extension": ".py",
   "mimetype": "text/x-python",
   "name": "python",
   "nbconvert_exporter": "python",
   "pygments_lexer": "ipython3",
   "version": "3.8.5"
  }
 },
 "nbformat": 4,
 "nbformat_minor": 4
}
