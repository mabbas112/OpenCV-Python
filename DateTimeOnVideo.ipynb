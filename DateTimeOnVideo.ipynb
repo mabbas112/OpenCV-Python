{
 "cells": [
  {
   "cell_type": "code",
   "execution_count": 4,
   "metadata": {},
   "outputs": [
    {
     "name": "stdout",
     "output_type": "stream",
     "text": [
      "640.0\n",
      "480.0\n"
     ]
    }
   ],
   "source": [
    "import cv2\n",
    "import datetime\n",
    "cap = cv2.VideoCapture(0)\n",
    "print(cap.get(cv2.CAP_PROP_FRAME_WIDTH))\n",
    "print(cap.get(cv2.CAP_PROP_FRAME_HEIGHT))\n",
    "\n",
    "#Font type which will dispay on video\n",
    "font = cv2.FONT_HERSHEY_SIMPLEX\n",
    "\n",
    "while(cap.isOpened()):\n",
    "    ret, frame = cap.read()\n",
    "    if ret == True:\n",
    "        #Defining of message which we want to display on a video\n",
    "        #text='Width: '+ str(cap.get(3)) + '    Height: ' + str(cap.get(3))\n",
    "       DateTime=str(datetime.datetime.now())\n",
    "    #frame variable where we want to store\n",
    "    #1st argument is frame, 2nd argument is message, 3rd argument is coordinate where it will show\n",
    "    #4th argument is font, 5th is font scale, 6th is color of text, 7th is thickness, 8th is line type\n",
    "       frame= cv2.putText(frame,DateTime, (10,100), font, 1, (0,255,0), 3, cv2.LINE_AA)\n",
    "    \n",
    "       cv2.imshow('frame', frame)\n",
    "        \n",
    "       #0xFF for 64 bit system\n",
    "       if cv2.waitKey(1) & 0xFF == ord('q'):\n",
    "            break\n",
    "    else:\n",
    "        break\n",
    "\n",
    "cap.release()\n",
    "cv2.destroyAllWindows()"
   ]
  },
  {
   "cell_type": "code",
   "execution_count": null,
   "metadata": {},
   "outputs": [],
   "source": []
  },
  {
   "cell_type": "code",
   "execution_count": null,
   "metadata": {},
   "outputs": [],
   "source": []
  }
 ],
 "metadata": {
  "kernelspec": {
   "display_name": "Python 3",
   "language": "python",
   "name": "python3"
  },
  "language_info": {
   "codemirror_mode": {
    "name": "ipython",
    "version": 3
   },
   "file_extension": ".py",
   "mimetype": "text/x-python",
   "name": "python",
   "nbconvert_exporter": "python",
   "pygments_lexer": "ipython3",
   "version": "3.8.5"
  }
 },
 "nbformat": 4,
 "nbformat_minor": 4
}
