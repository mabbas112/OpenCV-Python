{
 "cells": [
  {
   "cell_type": "code",
   "execution_count": 14,
   "metadata": {},
   "outputs": [],
   "source": [
    "import cv2\n",
    "import numpy as np\n",
    "\n",
    "#img=cv2.imread('image.jpg')\n",
    "img=np.zeros((512,512,3),np.uint8)\n",
    "points=[]\n",
    "\n",
    "def click_event(event, x, y, flags, param):\n",
    "    if event == cv2.EVENT_LBUTTONDOWN:\n",
    "        #1st argument pass image, 2nd is coordinate\n",
    "        #3rd is radius, 4th is color\n",
    "        #5th is thickness if -ve pass then it will fill close empty space\n",
    "        cv2.circle(img,(x,y),10,(0,0,255),-1) \n",
    "        points.append((x,y))\n",
    "        if len(points) >=2: #if mouse click 2 times\n",
    "            #1st argument is image, 2nd is last point\n",
    "            #3rd is 2nd last point, 4th color, 5th thickness\n",
    "            cv2.line(img,points[-1],points[-2],(255,0,0),5)\n",
    "        cv2.imshow('Image',img)\n",
    "        \n",
    "cv2.imshow('Image',img)\n",
    "cv2.setMouseCallback('Image',click_event)\n",
    "\n",
    " \n",
    "\n",
    "cv2.waitKey(0)\n",
    "cv2.destroyAllWindows()\n"
   ]
  },
  {
   "cell_type": "code",
   "execution_count": null,
   "metadata": {},
   "outputs": [],
   "source": []
  },
  {
   "cell_type": "code",
   "execution_count": null,
   "metadata": {},
   "outputs": [],
   "source": []
  },
  {
   "cell_type": "code",
   "execution_count": null,
   "metadata": {},
   "outputs": [],
   "source": []
  },
  {
   "cell_type": "code",
   "execution_count": null,
   "metadata": {},
   "outputs": [],
   "source": []
  },
  {
   "cell_type": "code",
   "execution_count": null,
   "metadata": {},
   "outputs": [],
   "source": []
  }
 ],
 "metadata": {
  "kernelspec": {
   "display_name": "Python 3",
   "language": "python",
   "name": "python3"
  },
  "language_info": {
   "codemirror_mode": {
    "name": "ipython",
    "version": 3
   },
   "file_extension": ".py",
   "mimetype": "text/x-python",
   "name": "python",
   "nbconvert_exporter": "python",
   "pygments_lexer": "ipython3",
   "version": "3.8.5"
  }
 },
 "nbformat": 4,
 "nbformat_minor": 4
}
