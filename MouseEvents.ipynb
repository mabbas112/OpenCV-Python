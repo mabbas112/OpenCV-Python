{
 "cells": [
  {
   "cell_type": "code",
   "execution_count": 9,
   "metadata": {},
   "outputs": [
    {
     "name": "stdout",
     "output_type": "stream",
     "text": [
      "224 ,  114\n",
      "89 ,  290\n",
      "2021-05-12 12:41:44.787599\n",
      "2021-05-12 12:41:46.315598\n",
      "109 ,  278\n",
      "2021-05-12 12:41:47.289026\n",
      "109 ,  278\n",
      "2021-05-12 12:41:48.063274\n",
      "109 ,  278\n",
      "2021-05-12 12:41:48.997684\n",
      "109 ,  278\n",
      "2021-05-12 12:41:49.655372\n",
      "109 ,  278\n",
      "2021-05-12 12:41:50.289818\n",
      "2021-05-12 12:41:50.964407\n",
      "288 ,  396\n",
      "3 ,  394\n",
      "2021-05-12 12:41:55.090595\n",
      "7 ,  451\n",
      "2021-05-12 12:41:56.721781\n",
      "2021-05-12 12:41:57.930160\n"
     ]
    }
   ],
   "source": [
    "import cv2\n",
    "import numpy as np\n",
    "import datetime\n",
    "\n",
    "#many mouse events are available in cv2 package\n",
    "#all events in cv2\n",
    "#events= [i for i in dir(cv2) if 'EVENT' in i]\n",
    "# chech if it consist of event keyword\n",
    "#print(events)\n",
    "\n",
    "#Creation of blannk image\n",
    "img=np.zeros((512,512,3),np.uint8)\n",
    "cv2.imshow('image',img)\n",
    "\n",
    "#Defination of font\n",
    "font=cv2.FONT_HERSHEY_SIMPLEX\n",
    "\n",
    "#function\n",
    "#1st argument event which will taken place\n",
    "#2nd 3rd pick the coordinate where we will click\n",
    "#it will same everywhere \n",
    "def click_event(event,x,y,flags,param):\n",
    "    if event == cv2.EVENT_LBUTTONDOWN:\n",
    "        print(x,', ',y)\n",
    "        text = str(x) + ', ' + str(y)\n",
    "        \n",
    "        cv2.putText(img,text,(x,y),font,1,(0,255,0),1,cv2.LINE_AA)\n",
    "        cv2.imshow('image',img)\n",
    "    if event == cv2.EVENT_RBUTTONDOWN:\n",
    "        DateTime=str(datetime.datetime.now())\n",
    "        print(DateTime)\n",
    "        cv2.putText(img,DateTime,(x,y),font,1,(0,255,0),1,cv2.LINE_AA)\n",
    "        cv2.imshow('image',img)\n",
    "        \n",
    "#Window name should be same pass where the image will display        \n",
    "cv2.setMouseCallback('image',click_event)\n",
    "cv2.waitKey(0)\n",
    "cv2.destroyAllWindows()\n",
    "    \n",
    "\n",
    "\n",
    "\n",
    "\n"
   ]
  },
  {
   "cell_type": "code",
   "execution_count": null,
   "metadata": {},
   "outputs": [],
   "source": []
  }
 ],
 "metadata": {
  "kernelspec": {
   "display_name": "Python 3",
   "language": "python",
   "name": "python3"
  },
  "language_info": {
   "codemirror_mode": {
    "name": "ipython",
    "version": 3
   },
   "file_extension": ".py",
   "mimetype": "text/x-python",
   "name": "python",
   "nbconvert_exporter": "python",
   "pygments_lexer": "ipython3",
   "version": "3.8.5"
  }
 },
 "nbformat": 4,
 "nbformat_minor": 4
}
