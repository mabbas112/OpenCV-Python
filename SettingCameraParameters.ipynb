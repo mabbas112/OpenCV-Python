{
 "cells": [
  {
   "cell_type": "code",
   "execution_count": 2,
   "metadata": {},
   "outputs": [
    {
     "name": "stdout",
     "output_type": "stream",
     "text": [
      "640.0\n",
      "480.0\n",
      "848.0\n",
      "480.0\n"
     ]
    }
   ],
   "source": [
    "import cv2\n",
    "\n",
    "#0 means Capturing video from webCam and provide 1 2 for more devices by comma separated\n",
    "cap = cv2.VideoCapture(0)\n",
    "#It provide width of the frame, also you can pass 3.\n",
    "print(cap.get(cv2.CAP_PROP_FRAME_WIDTH))\n",
    "#print(cap.get(3))\n",
    "\n",
    "#It provide height of the frame, also you can pass 4.\n",
    "print(cap.get(cv2.CAP_PROP_FRAME_HEIGHT))\n",
    "#print(cap.get(4))\n",
    "\n",
    "#output of above code \n",
    "#640\n",
    "#480\n",
    "\n",
    "\n",
    "#Here we are using and setting height and width\n",
    "cap.set(3, 800)\n",
    "cap.set(4, 300)\n",
    "\n",
    "print(cap.get(3))\n",
    "print(cap.get(4))\n",
    "\n",
    "#output of above code \n",
    "#848\n",
    "#480\n",
    "\n",
    "\n",
    "while(cap.isOpened()):\n",
    "    ret, frame = cap.read()\n",
    "    if ret == True:\n",
    "\n",
    "       gray = cv2.cvtColor(frame, cv2.COLOR_BGR2GRAY)\n",
    "       cv2.imshow('frame', gray)\n",
    "\n",
    "       if cv2.waitKey(1) & 0xFF == ord('q'):\n",
    "         break\n",
    "    else:\n",
    "        break\n",
    "\n",
    "cap.release()\n",
    "cv2.destroyAllWindows()"
   ]
  },
  {
   "cell_type": "code",
   "execution_count": null,
   "metadata": {},
   "outputs": [],
   "source": []
  }
 ],
 "metadata": {
  "kernelspec": {
   "display_name": "Python 3",
   "language": "python",
   "name": "python3"
  },
  "language_info": {
   "codemirror_mode": {
    "name": "ipython",
    "version": 3
   },
   "file_extension": ".py",
   "mimetype": "text/x-python",
   "name": "python",
   "nbconvert_exporter": "python",
   "pygments_lexer": "ipython3",
   "version": "3.8.5"
  }
 },
 "nbformat": 4,
 "nbformat_minor": 4
}
